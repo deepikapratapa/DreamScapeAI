{
 "cells": [
  {
   "cell_type": "markdown",
   "id": "4a16e89f-5123-4dca-9609-312562dba36a",
   "metadata": {},
   "source": [
    "# Setup & Environment Verification — DreamScape AI\n",
    "\n",
    "This notebook confirms that the environment is correctly configured, the **DreamBank Annotated** dataset loads from Hugging Face, and basic EDA works.\n",
    "\n",
    "**It will:**\n",
    "- Print library versions and runtime details\n",
    "- Load a small sample of the dataset\n",
    "- Run light cleaning and generate one plot\n",
    "- Save a small processed JSON artifact for the project\n",
    "\n",
    "Outputs saved to:\n",
    "- `results/eda_plots.png`\n",
    "- `data/processed/dreambank_clean.json`"
   ]
  },
  {
   "cell_type": "code",
   "execution_count": 1,
   "id": "0d7d5375-037a-4423-8b82-8b51cd2976b6",
   "metadata": {},
   "outputs": [
    {
     "name": "stdout",
     "output_type": "stream",
     "text": [
      "Environment check\n",
      "- OS: macOS-15.6.1-arm64-arm-64bit\n",
      "- Python: 3.11.13\n",
      "- pandas: 2.3.3\n",
      "- matplotlib: 3.10.7\n",
      "- seaborn: 0.13.2\n",
      "- datasets: datasets (🤗 datasets)\n",
      "- torch: 2.8.0\n",
      "  CUDA available: False\n"
     ]
    }
   ],
   "source": [
    "# Core imports and version check\n",
    "import sys, os, json, shutil, warnings, pathlib, platform\n",
    "from pathlib import Path\n",
    "\n",
    "import pandas as pd\n",
    "import numpy as np\n",
    "import matplotlib, seaborn\n",
    "from datasets import load_dataset\n",
    "\n",
    "# Optional torch presence\n",
    "try:\n",
    "    import torch\n",
    "    TORCH_OK = True\n",
    "except Exception:\n",
    "    TORCH_OK = False\n",
    "\n",
    "print(\"Environment check\")\n",
    "print(\"- OS:\", platform.platform())\n",
    "print(\"- Python:\", sys.version.split()[0])\n",
    "print(\"- pandas:\", pd.__version__)\n",
    "print(\"- matplotlib:\", matplotlib.__version__)\n",
    "print(\"- seaborn:\", seaborn.__version__)\n",
    "print(\"- datasets:\", load_dataset.__module__.split('.')[0], \"(🤗 datasets)\")\n",
    "\n",
    "if TORCH_OK:\n",
    "    print(\"- torch:\", torch.__version__)\n",
    "    print(\"  CUDA available:\", torch.cuda.is_available())\n",
    "else:\n",
    "    print(\"- torch: not installed (OK for EDA)\")"
   ]
  },
  {
   "cell_type": "code",
   "execution_count": 2,
   "id": "f0eca3c0-59aa-4ea6-969c-3408690c193a",
   "metadata": {},
   "outputs": [
    {
     "name": "stdout",
     "output_type": "stream",
     "text": [
      "Write permissions OK in /Users/saturnine/Dreamscape\n"
     ]
    }
   ],
   "source": [
    "# Ensure repo structure paths exist\n",
    "BASE = Path(\".\").resolve()\n",
    "DATA_RAW = BASE / \"data\" / \"raw\"\n",
    "DATA_PROC = BASE / \"data\" / \"processed\"\n",
    "RESULTS = BASE / \"results\"\n",
    "\n",
    "for p in [DATA_RAW, DATA_PROC, RESULTS]:\n",
    "    p.mkdir(parents=True, exist_ok=True)\n",
    "\n",
    "# quick write permission check\n",
    "testfile = BASE / \"_perm_test\"\n",
    "with open(testfile, \"w\") as f:\n",
    "    f.write(\"ok\")\n",
    "testfile.unlink()\n",
    "print(\"Write permissions OK in\", BASE)"
   ]
  },
  {
   "cell_type": "markdown",
   "id": "45f3720b-21f5-4cad-adfb-67b4e1ee3b21",
   "metadata": {},
   "source": [
    "## Load DreamBank Annotated (Hugging Face)\n",
    "\n",
    "We load a **small subset** for speed and verification."
   ]
  },
  {
   "cell_type": "code",
   "execution_count": 3,
   "id": "6a596918-312a-44d3-80b1-23978ddcaeb6",
   "metadata": {},
   "outputs": [
    {
     "name": "stdout",
     "output_type": "stream",
     "text": [
      "Rows: 27952 | Columns: ['id', 'name', 'number', 'time', 'date', 'gender', 'age', 'report', 'character', 'emotion']\n"
     ]
    },
    {
     "data": {
      "text/html": [
       "<div>\n",
       "<style scoped>\n",
       "    .dataframe tbody tr th:only-of-type {\n",
       "        vertical-align: middle;\n",
       "    }\n",
       "\n",
       "    .dataframe tbody tr th {\n",
       "        vertical-align: top;\n",
       "    }\n",
       "\n",
       "    .dataframe thead th {\n",
       "        text-align: right;\n",
       "    }\n",
       "</style>\n",
       "<table border=\"1\" class=\"dataframe\">\n",
       "  <thead>\n",
       "    <tr style=\"text-align: right;\">\n",
       "      <th></th>\n",
       "      <th>name</th>\n",
       "      <th>date</th>\n",
       "      <th>report</th>\n",
       "    </tr>\n",
       "  </thead>\n",
       "  <tbody>\n",
       "    <tr>\n",
       "      <th>0</th>\n",
       "      <td>Alta: a detailed dreamer</td>\n",
       "      <td>1957</td>\n",
       "      <td>The one at the Meads's house, where it's bigge...</td>\n",
       "    </tr>\n",
       "    <tr>\n",
       "      <th>1</th>\n",
       "      <td>Alta: a detailed dreamer</td>\n",
       "      <td>8/11/67</td>\n",
       "      <td>I'm at a family reunion in a large fine house ...</td>\n",
       "    </tr>\n",
       "    <tr>\n",
       "      <th>2</th>\n",
       "      <td>Alta: a detailed dreamer</td>\n",
       "      <td>8/1/85</td>\n",
       "      <td>I watch a plane fly past and shortly realize i...</td>\n",
       "    </tr>\n",
       "    <tr>\n",
       "      <th>3</th>\n",
       "      <td>Alta: a detailed dreamer</td>\n",
       "      <td>1985?</td>\n",
       "      <td>Me pulling the green leaves and berries off so...</td>\n",
       "    </tr>\n",
       "    <tr>\n",
       "      <th>4</th>\n",
       "      <td>Alta: a detailed dreamer</td>\n",
       "      <td>1985?</td>\n",
       "      <td>I'm in a room that reminds me of (but definite...</td>\n",
       "    </tr>\n",
       "  </tbody>\n",
       "</table>\n",
       "</div>"
      ],
      "text/plain": [
       "                       name     date  \\\n",
       "0  Alta: a detailed dreamer     1957   \n",
       "1  Alta: a detailed dreamer  8/11/67   \n",
       "2  Alta: a detailed dreamer   8/1/85   \n",
       "3  Alta: a detailed dreamer    1985?   \n",
       "4  Alta: a detailed dreamer    1985?   \n",
       "\n",
       "                                              report  \n",
       "0  The one at the Meads's house, where it's bigge...  \n",
       "1  I'm at a family reunion in a large fine house ...  \n",
       "2  I watch a plane fly past and shortly realize i...  \n",
       "3  Me pulling the green leaves and berries off so...  \n",
       "4  I'm in a room that reminds me of (but definite...  "
      ]
     },
     "metadata": {},
     "output_type": "display_data"
    }
   ],
   "source": [
    "# Load small sample of the dataset for quick verification\n",
    "ds = load_dataset(\"gustavecortal/DreamBank-annotated\")\n",
    "df = ds[\"train\"].to_pandas()\n",
    "\n",
    "print(\"Rows:\", len(df), \"| Columns:\", list(df.columns))\n",
    "df_sample = df.head(1000).copy()  # keep it light\n",
    "\n",
    "# Show a few rows\n",
    "display(df_sample[[\"name\", \"date\", \"report\"]].head(5))"
   ]
  },
  {
   "cell_type": "markdown",
   "id": "170c5db2-1fc6-4da3-848c-19a97f471e30",
   "metadata": {},
   "source": [
    "## Basic Cleaning\n",
    "\n",
    "- Drop null or very short texts  \n",
    "- Normalize to a `text` column  \n",
    "- Compute rough length for quick stats"
   ]
  },
  {
   "cell_type": "code",
   "execution_count": 4,
   "id": "ddcf3d8d-4714-42c5-bef3-11ccea2784a5",
   "metadata": {},
   "outputs": [
    {
     "name": "stdout",
     "output_type": "stream",
     "text": [
      "After cleaning: (978, 12)\n"
     ]
    },
    {
     "data": {
      "text/html": [
       "<div>\n",
       "<style scoped>\n",
       "    .dataframe tbody tr th:only-of-type {\n",
       "        vertical-align: middle;\n",
       "    }\n",
       "\n",
       "    .dataframe tbody tr th {\n",
       "        vertical-align: top;\n",
       "    }\n",
       "\n",
       "    .dataframe thead th {\n",
       "        text-align: right;\n",
       "    }\n",
       "</style>\n",
       "<table border=\"1\" class=\"dataframe\">\n",
       "  <thead>\n",
       "    <tr style=\"text-align: right;\">\n",
       "      <th></th>\n",
       "      <th>name</th>\n",
       "      <th>length</th>\n",
       "      <th>text</th>\n",
       "    </tr>\n",
       "  </thead>\n",
       "  <tbody>\n",
       "    <tr>\n",
       "      <th>0</th>\n",
       "      <td>Alta: a detailed dreamer</td>\n",
       "      <td>867</td>\n",
       "      <td>The one at the Meads's house, where it's bigge...</td>\n",
       "    </tr>\n",
       "    <tr>\n",
       "      <th>1</th>\n",
       "      <td>Alta: a detailed dreamer</td>\n",
       "      <td>1306</td>\n",
       "      <td>I'm at a family reunion in a large fine house ...</td>\n",
       "    </tr>\n",
       "    <tr>\n",
       "      <th>2</th>\n",
       "      <td>Alta: a detailed dreamer</td>\n",
       "      <td>1693</td>\n",
       "      <td>I watch a plane fly past and shortly realize i...</td>\n",
       "    </tr>\n",
       "  </tbody>\n",
       "</table>\n",
       "</div>"
      ],
      "text/plain": [
       "                       name  length  \\\n",
       "0  Alta: a detailed dreamer     867   \n",
       "1  Alta: a detailed dreamer    1306   \n",
       "2  Alta: a detailed dreamer    1693   \n",
       "\n",
       "                                                text  \n",
       "0  The one at the Meads's house, where it's bigge...  \n",
       "1  I'm at a family reunion in a large fine house ...  \n",
       "2  I watch a plane fly past and shortly realize i...  "
      ]
     },
     "metadata": {},
     "output_type": "display_data"
    }
   ],
   "source": [
    "try:\n",
    "    from src.preprocess import length_filter\n",
    "except Exception:\n",
    "    def length_filter(df, col=\"report\", min_chars=50):\n",
    "        df = df.dropna(subset=[col]).copy()\n",
    "        df[\"text\"] = df[col].astype(str).str.strip()\n",
    "        return df[df[\"text\"].str.len() >= min_chars]\n",
    "\n",
    "clean = length_filter(df_sample, col=\"report\", min_chars=50)\n",
    "clean[\"length\"] = clean[\"text\"].str.len()\n",
    "\n",
    "print(\"After cleaning:\", clean.shape)\n",
    "display(clean[[\"name\", \"length\", \"text\"]].head(3))"
   ]
  },
  {
   "cell_type": "markdown",
   "id": "376da15a-8732-490e-905c-9509b1f23b3b",
   "metadata": {},
   "source": [
    "## Early EDA — Length Distribution\n",
    "\n",
    "We generate one simple histogram and save it to `results/eda_plots.png`."
   ]
  },
  {
   "cell_type": "code",
   "execution_count": 5,
   "id": "80cd470c-488f-4006-9ed2-900ce5a966d4",
   "metadata": {},
   "outputs": [
    {
     "data": {
      "image/png": "[encoded data removed]",
      "text/plain": [
       "<Figure size 600x400 with 1 Axes>"
      ]
     },
     "metadata": {},
     "output_type": "display_data"
    },
    {
     "name": "stdout",
     "output_type": "stream",
     "text": [
      "Saved plot -> /Users/saturnine/Dreamscape/results/eda_plots.png\n"
     ]
    }
   ],
   "source": [
    "import matplotlib.pyplot as plt\n",
    "\n",
    "plt.figure(figsize=(6,4))\n",
    "plt.hist(clean[\"length\"], bins=25, edgecolor=\"black\")\n",
    "plt.title(\"Dream Report Length (characters)\")\n",
    "plt.xlabel(\"Length\"); plt.ylabel(\"Count\")\n",
    "plt.tight_layout()\n",
    "\n",
    "out_plot = RESULTS / \"eda_plots.png\"\n",
    "plt.savefig(out_plot, dpi=150, bbox_inches=\"tight\")\n",
    "plt.show()\n",
    "\n",
    "print(\"Saved plot ->\", out_plot)"
   ]
  },
  {
   "cell_type": "markdown",
   "id": "0719d687-4f0f-446a-a9c6-584cdefd6056",
   "metadata": {},
   "source": [
    "## Save a Small Processed JSON\n",
    "\n",
    "We store a small, cleaned subset for downstream notebooks."
   ]
  },
  {
   "cell_type": "code",
   "execution_count": 6,
   "id": "eff48f90-45c0-46c2-8b33-d20634760053",
   "metadata": {},
   "outputs": [
    {
     "name": "stdout",
     "output_type": "stream",
     "text": [
      "Saved JSON -> /Users/saturnine/Dreamscape/data/processed/dreambank_clean.json | size: 1427806 bytes\n",
      "Reloaded rows: 978\n"
     ]
    },
    {
     "data": {
      "text/html": [
       "<div>\n",
       "<style scoped>\n",
       "    .dataframe tbody tr th:only-of-type {\n",
       "        vertical-align: middle;\n",
       "    }\n",
       "\n",
       "    .dataframe tbody tr th {\n",
       "        vertical-align: top;\n",
       "    }\n",
       "\n",
       "    .dataframe thead th {\n",
       "        text-align: right;\n",
       "    }\n",
       "</style>\n",
       "<table border=\"1\" class=\"dataframe\">\n",
       "  <thead>\n",
       "    <tr style=\"text-align: right;\">\n",
       "      <th></th>\n",
       "      <th>id</th>\n",
       "      <th>name</th>\n",
       "      <th>date</th>\n",
       "      <th>text</th>\n",
       "    </tr>\n",
       "  </thead>\n",
       "  <tbody>\n",
       "    <tr>\n",
       "      <th>0</th>\n",
       "      <td>alta</td>\n",
       "      <td>Alta: a detailed dreamer</td>\n",
       "      <td>1957</td>\n",
       "      <td>The one at the Meads's house, where it's bigge...</td>\n",
       "    </tr>\n",
       "    <tr>\n",
       "      <th>1</th>\n",
       "      <td>alta</td>\n",
       "      <td>Alta: a detailed dreamer</td>\n",
       "      <td>8/11/67</td>\n",
       "      <td>I'm at a family reunion in a large fine house ...</td>\n",
       "    </tr>\n",
       "    <tr>\n",
       "      <th>2</th>\n",
       "      <td>alta</td>\n",
       "      <td>Alta: a detailed dreamer</td>\n",
       "      <td>8/1/85</td>\n",
       "      <td>I watch a plane fly past and shortly realize i...</td>\n",
       "    </tr>\n",
       "  </tbody>\n",
       "</table>\n",
       "</div>"
      ],
      "text/plain": [
       "     id                      name     date  \\\n",
       "0  alta  Alta: a detailed dreamer     1957   \n",
       "1  alta  Alta: a detailed dreamer  8/11/67   \n",
       "2  alta  Alta: a detailed dreamer   8/1/85   \n",
       "\n",
       "                                                text  \n",
       "0  The one at the Meads's house, where it's bigge...  \n",
       "1  I'm at a family reunion in a large fine house ...  \n",
       "2  I watch a plane fly past and shortly realize i...  "
      ]
     },
     "metadata": {},
     "output_type": "display_data"
    }
   ],
   "source": [
    "out_json = DATA_PROC / \"dreambank_clean.json\"\n",
    "cols_to_keep = [\"id\", \"name\", \"date\", \"text\"]  # small and useful\n",
    "\n",
    "clean_small = clean[cols_to_keep].head(1000).copy()\n",
    "clean_small.to_json(out_json, orient=\"records\", lines=False, force_ascii=False)\n",
    "\n",
    "print(\"Saved JSON ->\", out_json, \"| size:\", out_json.stat().st_size, \"bytes\")\n",
    "\n",
    "# quick load-back sanity check\n",
    "loaded = pd.read_json(out_json, convert_dates=False)\n",
    "print(\"Reloaded rows:\", len(loaded))\n",
    "display(loaded.head(3))"
   ]
  },
  {
   "cell_type": "markdown",
   "id": "86063df3-2f50-49a3-bdf4-d2b4e9efc2eb",
   "metadata": {},
   "source": [
    "### Quick Peek at Emotion Tags\n",
    "\n",
    "The dataset includes a column `emotion` with tags like `AN`, `SD`, `JO`.  \n",
    "We can quickly count non-null entries to demonstrate feature presence (no heavy modeling here)."
   ]
  },
  {
   "cell_type": "code",
   "execution_count": 7,
   "id": "3671201f-a1ff-431c-a214-89699125ba36",
   "metadata": {},
   "outputs": [
    {
     "name": "stdout",
     "output_type": "stream",
     "text": [
      "Non-null emotion tag examples: 571\n"
     ]
    },
    {
     "data": {
      "text/plain": [
       "4              CO D, AN 1MKA\n",
       "6                 AN D, AN D\n",
       "7                       AP D\n",
       "11    CO 1FKA, AN 1FKA, CO D\n",
       "13             AP D, HA 1MKA\n",
       "Name: emotion, dtype: object"
      ]
     },
     "metadata": {},
     "output_type": "display_data"
    }
   ],
   "source": [
    "if \"emotion\" in df.columns:\n",
    "    emo_counts = df_sample[\"emotion\"].dropna()\n",
    "    print(\"Non-null emotion tag examples:\", len(emo_counts))\n",
    "    display(emo_counts.head(5))\n",
    "else:\n",
    "    print(\"No 'emotion' column found in this sample (ok).\")"
   ]
  },
  {
   "cell_type": "markdown",
   "id": "0e0091ae-c692-458b-a4e0-bb3bc1d1fd92",
   "metadata": {},
   "source": [
    "## ✅ Results\n",
    "\n",
    "- Environment verified (versions printed above)  \n",
    "- DreamBank Annotated successfully loaded from Hugging Face  \n",
    "- Early EDA plot saved: `results/eda_plots.png`  \n",
    "- Cleaned subset saved: `data/processed/dreambank_clean.json`\n",
    "\n",
    "## ▶️ Next Notebooks\n",
    "- `exploratory_data_analysis.ipynb`: deeper stats, cleaning & plots  \n",
    "- `nlp_motif_extraction.ipynb`: transformer-based motifs/emotions  \n",
    "- `visualization_summary.ipynb`: summary graphs & motif network\n",
    "\n",
    "_This setup notebook is for the Deliverable 1 repository requirement._"
   ]
  },
  {
   "cell_type": "code",
   "execution_count": null,
   "id": "44c2e0e2-39f8-4131-bdff-e24ad53d225b",
   "metadata": {},
   "outputs": [],
   "source": []
  }
 ],
 "metadata": {
  "kernelspec": {
   "display_name": "Python 3 (ipykernel)",
   "language": "python",
   "name": "python3"
  },
  "language_info": {
   "codemirror_mode": {
    "name": "ipython",
    "version": 3
   },
   "file_extension": ".py",
   "mimetype": "text/x-python",
   "name": "python",
   "nbconvert_exporter": "python",
   "pygments_lexer": "ipython3",
   "version": "3.11.13"
  }
 },
 "nbformat": 4,
 "nbformat_minor": 5
}
