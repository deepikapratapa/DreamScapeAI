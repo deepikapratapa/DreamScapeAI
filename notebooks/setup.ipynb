{
 "cells": [
  {
   "cell_type": "markdown",
   "id": "4a16e89f-5123-4dca-9609-312562dba36a",
   "metadata": {},
   "source": [
    "# Setup & Environment Verification — DreamScape AI\n",
    "\n",
    "This notebook confirms that the environment is correctly configured, the **DreamBank Annotated** dataset loads from Hugging Face, and basic EDA works.\n",
    "\n",
    "**It will:**\n",
    "- Print library versions and runtime details\n",
    "- Load a small sample of the dataset\n",
    "- Run light cleaning and generate one plot\n",
    "- Save a small processed JSON artifact for the project\n",
    "\n",
    "Outputs saved to:\n",
    "- `results/eda_plots.png`\n",
    "- `data/processed/dreambank_clean.json`"
   ]
  },
  {
   "cell_type": "code",
   "execution_count": 1,
   "id": "0d7d5375-037a-4423-8b82-8b51cd2976b6",
   "metadata": {},
   "outputs": [
    {
     "name": "stdout",
     "output_type": "stream",
     "text": [
      "✅ Environment check\n",
      "- OS: macOS-15.6.1-arm64-arm-64bit\n",
      "- Python: 3.11.13\n",
      "- pandas: 2.3.3\n",
      "- matplotlib: 3.10.7\n",
      "- seaborn: 0.13.2\n",
      "- datasets: datasets (🤗 datasets)\n",
      "- torch: 2.8.0\n",
      "  CUDA available: False\n"
     ]
    }
   ],
   "source": [
    "# Core imports and version check\n",
    "import sys, os, json, shutil, warnings, pathlib, platform\n",
    "from pathlib import Path\n",
    "\n",
    "import pandas as pd\n",
    "import numpy as np\n",
    "import matplotlib, seaborn\n",
    "from datasets import load_dataset\n",
    "\n",
    "# Optional torch presence\n",
    "try:\n",
    "    import torch\n",
    "    TORCH_OK = True\n",
    "except Exception:\n",
    "    TORCH_OK = False\n",
    "\n",
    "print(\"✅ Environment check\")\n",
    "print(\"- OS:\", platform.platform())\n",
    "print(\"- Python:\", sys.version.split()[0])\n",
    "print(\"- pandas:\", pd.__version__)\n",
    "print(\"- matplotlib:\", matplotlib.__version__)\n",
    "print(\"- seaborn:\", seaborn.__version__)\n",
    "print(\"- datasets:\", load_dataset.__module__.split('.')[0], \"(🤗 datasets)\")\n",
    "\n",
    "if TORCH_OK:\n",
    "    print(\"- torch:\", torch.__version__)\n",
    "    print(\"  CUDA available:\", torch.cuda.is_available())\n",
    "else:\n",
    "    print(\"- torch: not installed (OK for EDA)\")"
   ]
  },
  {
   "cell_type": "code",
   "execution_count": 2,
   "id": "f0eca3c0-59aa-4ea6-969c-3408690c193a",
   "metadata": {},
   "outputs": [
    {
     "name": "stdout",
     "output_type": "stream",
     "text": [
      "✅ Write permissions OK in /Users/saturnine/Dreamscape\n"
     ]
    }
   ],
   "source": [
    "# Ensure repo structure paths exist (idempotent)\n",
    "BASE = Path(\".\").resolve()\n",
    "DATA_RAW = BASE / \"data\" / \"raw\"\n",
    "DATA_PROC = BASE / \"data\" / \"processed\"\n",
    "RESULTS = BASE / \"results\"\n",
    "\n",
    "for p in [DATA_RAW, DATA_PROC, RESULTS]:\n",
    "    p.mkdir(parents=True, exist_ok=True)\n",
    "\n",
    "# quick write permission check\n",
    "testfile = BASE / \"_perm_test\"\n",
    "with open(testfile, \"w\") as f:\n",
    "    f.write(\"ok\")\n",
    "testfile.unlink()\n",
    "print(\"✅ Write permissions OK in\", BASE)"
   ]
  },
  {
   "cell_type": "code",
   "execution_count": null,
   "id": "846d4afb-ab49-4edf-ae79-fb22f14ea617",
   "metadata": {},
   "outputs": [],
   "source": []
  }
 ],
 "metadata": {
  "kernelspec": {
   "display_name": "Python 3 (ipykernel)",
   "language": "python",
   "name": "python3"
  },
  "language_info": {
   "codemirror_mode": {
    "name": "ipython",
    "version": 3
   },
   "file_extension": ".py",
   "mimetype": "text/x-python",
   "name": "python",
   "nbconvert_exporter": "python",
   "pygments_lexer": "ipython3",
   "version": "3.11.13"
  }
 },
 "nbformat": 4,
 "nbformat_minor": 5
}
